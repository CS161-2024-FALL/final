{
 "cells": [
  {
   "cell_type": "code",
   "execution_count": null,
   "metadata": {},
   "outputs": [],
   "source": [
    "# NOTE: I did not test the notebooks yet lol, I just ran the scripts \n",
    "\n",
    "# Step 1: Shrink Raw Data\n",
    "import subprocess\n",
    "import os\n",
    "\n",
    "def run_script(script_path):\n",
    "    \"\"\"Helper function to execute Python scripts.\"\"\"\n",
    "    result = subprocess.run(\n",
    "        [\"python\", script_path],\n",
    "        capture_output=True,\n",
    "        text=True,\n",
    "    )\n",
    "    if result.returncode != 0:\n",
    "        print(f\"Error running {script_path}:\\n{result.stderr}\")\n",
    "    else:\n",
    "        print(f\"Output of {script_path}:\\n{result.stdout}\")\n",
    "\n",
    "# Shrink raw data\n",
    "shrunk_data_script = \"scripts/shrink_data.py\"\n",
    "if not os.path.exists(\"data/raw_data.csv\"):\n",
    "    print(\"Shrinking raw data...\")\n",
    "    run_script(shrunk_data_script)\n",
    "else:\n",
    "    print(\"Raw data already exists. Skipping shrinking step.\")\n"
   ]
  },
  {
   "cell_type": "code",
   "execution_count": null,
   "metadata": {},
   "outputs": [],
   "source": [
    "# Step 2: Preprocess Data\n",
    "preprocess_script = \"scripts/preprocess.py\"\n",
    "\n",
    "print(\"Preprocessing data...\")\n",
    "run_script(preprocess_script)\n"
   ]
  },
  {
   "cell_type": "code",
   "execution_count": null,
   "metadata": {},
   "outputs": [],
   "source": [
    "# Step 3: Generate Synthetic Data\n",
    "generate_script = \"scripts/generate_data.py\"\n",
    "\n",
    "print(\"Generating synthetic data...\")\n",
    "run_script(generate_script)\n"
   ]
  },
  {
   "cell_type": "code",
   "execution_count": null,
   "metadata": {},
   "outputs": [],
   "source": [
    "# Step 4: Compare Original and Synthetic Data\n",
    "compare_script = \"scripts/compare_data.py\"\n",
    "\n",
    "print(\"Comparing datasets...\")\n",
    "run_script(compare_script)\n"
   ]
  }
 ],
 "metadata": {
  "language_info": {
   "name": "python"
  }
 },
 "nbformat": 4,
 "nbformat_minor": 2
}
